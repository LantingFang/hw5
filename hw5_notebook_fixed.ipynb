{
  "cells": [
    {
      "cell_type": "code",
      "execution_count": null,
      "metadata": {},
      "outputs": [],
      "source": [
        "import pandas as pd\n",
        "import altair as alt\n",
        "\n",
        "# \u5141\u8bb8 Altair \u6e32\u67d3\u8d85\u8fc7 5000 \u884c\u6570\u636e\n",
        "alt.data_transformers.disable_max_rows()\n",
        "\n",
        "# \u6570\u636e\u8bfb\u53d6\n",
        "url = \"https://raw.githubusercontent.com/UIUC-iSchool-DataViz/is445_data/main/bfro_reports_fall2022.csv\"\n",
        "df = pd.read_csv(url)\n",
        "\n",
        "# \u56fe\u4e00\uff1aBigfoot \u62a5\u544a\u6570\u91cf\u6309\u5dde\u7edf\u8ba1\uff08\u67f1\u72b6\u56fe\uff09\n",
        "state_counts = df.groupby('state').size().reset_index(name='count')\n",
        "state_counts = state_counts.sort_values('count', ascending=False)\n",
        "\n",
        "bar_chart = alt.Chart(state_counts).mark_bar().encode(\n",
        "    x=alt.X('count:Q', title='Number of Reports'),\n",
        "    y=alt.Y('state:N', sort='-x', title='State'),\n",
        "    color=alt.Color('count:Q', scale=alt.Scale(scheme='blues'), title='Number of Reports')\n",
        ").properties(\n",
        "    title='Bigfoot Sightings by State',\n",
        "    width=600,\n",
        "    height=400\n",
        ")\n",
        "bar_chart.display()\n",
        "\n",
        "# \u56fe\u4e8c\uff1aBigfoot \u62a5\u544a\u65f6\u95f4\u8d8b\u52bf\uff08\u5e26\u4ea4\u4e92\u6298\u7ebf\u56fe\uff09\n",
        "df['date'] = pd.to_datetime(df['date'], errors='coerce')\n",
        "df = df.dropna(subset=['date'])\n",
        "df['year'] = df['date'].dt.year\n",
        "\n",
        "year_counts = df.groupby('year').size().reset_index(name='count')\n",
        "\n",
        "year_slider = alt.selection_interval(encodings=['x'])\n",
        "\n",
        "line_chart = alt.Chart(year_counts).mark_line().encode(\n",
        "    x=alt.X('year:O', title='Year'),\n",
        "    y=alt.Y('count:Q', title='Number of Reports'),\n",
        "    tooltip=['year', 'count']\n",
        ").add_selection(\n",
        "    year_slider\n",
        ").transform_filter(\n",
        "    year_slider\n",
        ").properties(\n",
        "    title='Bigfoot Sightings Over Time',\n",
        "    width=600,\n",
        "    height=400\n",
        ")\n",
        "line_chart.display()"
      ]
    }
  ],
  "metadata": {
    "kernelspec": {
      "display_name": "Python 3",
      "language": "python",
      "name": "python3"
    },
    "language_info": {
      "name": "python",
      "version": "3.9"
    }
  },
  "nbformat": 4,
  "nbformat_minor": 5
}